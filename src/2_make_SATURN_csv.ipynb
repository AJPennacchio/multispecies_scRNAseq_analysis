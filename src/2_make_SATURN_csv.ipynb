{
 "cells": [
  {
   "cell_type": "code",
   "execution_count": 2,
   "id": "0b88c662-50bc-4bfc-89a6-1aec2eb61b39",
   "metadata": {
    "tags": []
   },
   "outputs": [],
   "source": [
    "import pandas as pd"
   ]
  },
  {
   "cell_type": "code",
   "execution_count": 3,
   "id": "ab1ae7fc-d05d-42df-85fa-47e0794f4f10",
   "metadata": {
    "tags": []
   },
   "outputs": [],
   "source": [
    "#create CSV containing all necessary information for SATURN\n",
    "df = pd.DataFrame(columns=[\"path\", \"species\", \"embedding_path\"])\n",
    "\n",
    "#UPDATE SPECIES NAMES\n",
    "df[\"species\"] = [\"sorghum\", \"zmays\"]\n",
    "\n",
    "#UPDATE PATHS TO H5 FILES\n",
    "df[\"path\"] = [\"/home/apennacchio/pcsct/data/preprocessed/sbicolor_root10.h5ad\",\n",
    "        \"/home/apennacchio/pcsct/data/preprocessed/zmays_root2.h5ad\",\n",
    "        ]\n",
    "\n",
    "#UPDATE PATHS TO PROTEIN EMBEDDINGS\n",
    "sorghum_embedding_path = \"/home/apennacchio/SATURN/protein_embeddings/proteome/embeddings/Sorghum_bicolor_NCBIv3.gene_symbol_to_embedding_ESM1b.pt\"\n",
    "zmays_embedding_path = \"/home/apennacchio/SATURN/protein_embeddings/proteome/embeddings/Zea_mays.Zm-B73-REFERENCE-NAM-5.0.gene_symbol_to_embedding_ESM1b.pt\"\n",
    "df[\"embedding_path\"] = [sorghum_embedding_path, zmays_embedding_path]\n",
    "\n",
    "#UPDATE PATH TO CSV LOCATION\n",
    "df.to_csv(\"SATURN.csv\",index=False) "
   ]
  },
  {
   "cell_type": "code",
   "execution_count": null,
   "id": "aec603e1-0a7b-4cb7-a50d-1b6bcfd4bdd0",
   "metadata": {},
   "outputs": [],
   "source": []
  }
 ],
 "metadata": {
  "kernelspec": {
   "display_name": "Python 3 (ipykernel)",
   "language": "python",
   "name": "python3"
  },
  "language_info": {
   "codemirror_mode": {
    "name": "ipython",
    "version": 3
   },
   "file_extension": ".py",
   "mimetype": "text/x-python",
   "name": "python",
   "nbconvert_exporter": "python",
   "pygments_lexer": "ipython3",
   "version": "3.10.8"
  }
 },
 "nbformat": 4,
 "nbformat_minor": 5
}
